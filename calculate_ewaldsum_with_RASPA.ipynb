{
 "cells": [
  {
   "cell_type": "code",
   "execution_count": null,
   "metadata": {},
   "outputs": [],
   "source": [
    "\"\"\"\n",
    "Author: Benedikt Buhk \n",
    "Date: 2025-02-05\n",
    "Description: verify the results of RASPA2 for the LJ (and Coulombic) potentials.\n",
    "\"\"\""
   ]
  },
  {
   "cell_type": "markdown",
   "metadata": {},
   "source": [
    "## imports"
   ]
  },
  {
   "cell_type": "code",
   "execution_count": 8,
   "metadata": {},
   "outputs": [],
   "source": [
    "import numpy as np\n",
    "import matplotlib.pyplot as plt\n",
    "import pandas as pd\n",
    "import os\n",
    "import numpy as np"
   ]
  },
  {
   "cell_type": "markdown",
   "metadata": {},
   "source": [
    "## calculate potential with RASPA\n",
    "You can call RASPA2 from python through the \"run_from_python.sh\" script. It works similarly to run_auto but takes the x, y and z coordinate of the molecule from the script arguments $1, $2 and $3. Then it outputs the total energy (Host/Adsorbent), the LJ part, the Coulomb part, the real part of the Coulomb, the fourier part of the Coulomb and the alpha convergence/smearing/kappa parameter as text in seperate lines."
   ]
  },
  {
   "cell_type": "markdown",
   "metadata": {},
   "source": [
    "### example1: call RASPA(/here just a bash script) with subprocess"
   ]
  },
  {
   "cell_type": "code",
   "execution_count": 4,
   "metadata": {},
   "outputs": [
    {
     "name": "stdout",
     "output_type": "stream",
     "text": [
      "Bash script output:\n",
      "Number 1: 10\n",
      "Number 2: 20\n",
      "Number 3: 30\n",
      "\n"
     ]
    }
   ],
   "source": [
    "import subprocess\n",
    "\n",
    "# Path to the Bash script\n",
    "bash_script = \"./run_from_python_test.sh\"\n",
    "\n",
    "# Three numbers to pass as arguments\n",
    "number1 = \"10\"\n",
    "number2 = \"20\"\n",
    "number3 = \"30\"\n",
    "\n",
    "# Run the Bash script with the numbers as arguments\n",
    "try:\n",
    "    result = subprocess.run(\n",
    "        [bash_script, number1, number2, number3],\n",
    "        check=True,  # Raise an exception if the script fails\n",
    "        text=True,   # Decode stdout/stderr as text\n",
    "        capture_output=True  # Capture stdout and stderr\n",
    "    )\n",
    "    # Print the output of the Bash script\n",
    "    print(\"Bash script output:\")\n",
    "    print(result.stdout)\n",
    "except subprocess.CalledProcessError as e:\n",
    "    # Handle errors if the script fails\n",
    "    print(f\"Error running the Bash script: {e}\")\n",
    "    print(f\"Script stderr: {e.stderr}\")"
   ]
  },
  {
   "cell_type": "markdown",
   "metadata": {},
   "source": [
    "### example 2: with !bash run_from_python.sh"
   ]
  },
  {
   "cell_type": "code",
   "execution_count": 9,
   "metadata": {},
   "outputs": [],
   "source": [
    "x = [5.0, 6.0, 2.5]\n",
    "y = np.linspace(0.5, 3.0, 100)"
   ]
  },
  {
   "cell_type": "code",
   "execution_count": 11,
   "metadata": {},
   "outputs": [
    {
     "data": {
      "text/plain": [
       "5.0"
      ]
     },
     "execution_count": 11,
     "metadata": {},
     "output_type": "execute_result"
    }
   ],
   "source": [
    "x[0]"
   ]
  },
  {
   "cell_type": "code",
   "execution_count": 15,
   "metadata": {},
   "outputs": [],
   "source": [
    "script_output = !bash run_from_python.sh {x[2]} 0 0 "
   ]
  },
  {
   "cell_type": "code",
   "execution_count": 16,
   "metadata": {},
   "outputs": [
    {
     "data": {
      "text/plain": [
       "['-20156.68777283',\n",
       " '277.72618435',\n",
       " '-20434.41395719',\n",
       " '-9078.10030102',\n",
       " '-11356.31365617',\n",
       " '0.341429']"
      ]
     },
     "execution_count": 16,
     "metadata": {},
     "output_type": "execute_result"
    }
   ],
   "source": [
    "script_output"
   ]
  },
  {
   "cell_type": "code",
   "execution_count": 34,
   "metadata": {},
   "outputs": [
    {
     "data": {
      "text/plain": [
       "-21146.85159123"
      ]
     },
     "execution_count": 34,
     "metadata": {},
     "output_type": "execute_result"
    }
   ],
   "source": [
    "energy = float(script_output[0])\n",
    "energy"
   ]
  },
  {
   "cell_type": "code",
   "execution_count": 18,
   "metadata": {},
   "outputs": [],
   "source": [
    "a1 = np.array([10,0,0])\n",
    "a2 = np.array([5,10,0])\n",
    "a3 = np.array([0,0,10])\n",
    "\n",
    "R1,R2 = np.meshgrid(np.linspace(0,1,2),np.linspace(0,1,2))\n",
    "R3 = 0\n",
    "X = a1[0]*R1+a2[0]*R2+a3[0]*R3\n",
    "Y = a1[1]*R1+a2[1]*R2+a3[1]*R3\n",
    "Z = a1[2]*R1+a2[2]*R2+a3[2]*R3"
   ]
  },
  {
   "cell_type": "code",
   "execution_count": 42,
   "metadata": {},
   "outputs": [
    {
     "data": {
      "text/plain": [
       "array([[ 0., 10.],\n",
       "       [ 5., 15.]])"
      ]
     },
     "execution_count": 42,
     "metadata": {},
     "output_type": "execute_result"
    }
   ],
   "source": [
    "X"
   ]
  },
  {
   "cell_type": "code",
   "execution_count": 43,
   "metadata": {},
   "outputs": [
    {
     "data": {
      "text/plain": [
       "array([[ 0.,  0.],\n",
       "       [10., 10.]])"
      ]
     },
     "execution_count": 43,
     "metadata": {},
     "output_type": "execute_result"
    }
   ],
   "source": [
    "Y"
   ]
  },
  {
   "cell_type": "code",
   "execution_count": 47,
   "metadata": {},
   "outputs": [
    {
     "name": "stdout",
     "output_type": "stream",
     "text": [
      "x=0.0;  \ty=0.0\n",
      "x=10.0;  \ty=0.0\n",
      "x=5.0;  \ty=10.0\n",
      "x=15.0;  \ty=10.0\n"
     ]
    }
   ],
   "source": [
    "for i in range(2):\n",
    "    for j in range(2):\n",
    "        print(f\"x={X[i,j]};  \\ty={Y[i,j]}\")"
   ]
  },
  {
   "cell_type": "code",
   "execution_count": null,
   "metadata": {},
   "outputs": [],
   "source": [
    "R1,R2 = np.meshgrid(np.linspace(0,1,20),np.linspace(0,1,20))\n",
    "R3 = 0\n",
    "X = a1[0]*R1+a2[0]*R2+a3[0]*R3\n",
    "Y = a1[1]*R1+a2[1]*R2+a3[1]*R3\n",
    "Z = a1[2]*R1+a2[2]*R2+a3[2]*R3\n",
    "V_lr = ewald(1,6,R1,R2,R3)\n",
    "V_lr = np.clip(V_lr,-1e5,1e5)\n",
    "\n",
    "f,ax = plt.subplots()\n",
    "p = ax.contourf(X,Y,V_lr,levels=200)\n",
    "f.colorbar(p)\n",
    "ax.set_aspect('equal', 'box')\n",
    "plt.plot(a1_xyz[0], a1_xyz[1],'ro')\n",
    "plt.plot(a2_xyz[0], a2_xyz[1],'ro')\n",
    "plt.plot(a3_xyz[0], a3_xyz[1],'ro')"
   ]
  },
  {
   "cell_type": "markdown",
   "metadata": {},
   "source": [
    "## calculate grid with RASPA"
   ]
  },
  {
   "cell_type": "code",
   "execution_count": 40,
   "metadata": {},
   "outputs": [],
   "source": [
    "a1 = np.array([10,0,0])\n",
    "a2 = np.array([5,10,0])\n",
    "a3 = np.array([0,0,10])"
   ]
  },
  {
   "cell_type": "code",
   "execution_count": 44,
   "metadata": {},
   "outputs": [],
   "source": [
    "resolution = 2\n",
    "R1,R2 = np.meshgrid(np.linspace(0,1,2),np.linspace(0,1,2))\n",
    "R3 = 0\n",
    "X = a1[0]*R1+a2[0]*R2+a3[0]*R3\n",
    "Y = a1[1]*R1+a2[1]*R2+a3[1]*R3\n",
    "Z = a1[2]*R1+a2[2]*R2+a3[2]*R3"
   ]
  },
  {
   "cell_type": "code",
   "execution_count": 45,
   "metadata": {},
   "outputs": [
    {
     "name": "stdout",
     "output_type": "stream",
     "text": [
      "x=0.0;  \ty=0.0\n",
      "x=10.0;  \ty=0.0\n",
      "x=5.0;  \ty=10.0\n",
      "x=15.0;  \ty=10.0\n"
     ]
    }
   ],
   "source": [
    "for i in range(resolution):\n",
    "    for j in range(resolution):\n",
    "        print(f\"x={X[i,j]};  \\ty={Y[i,j]}\")"
   ]
  },
  {
   "cell_type": "code",
   "execution_count": 33,
   "metadata": {},
   "outputs": [],
   "source": [
    "energy = np.zeros((resolution,resolution))\n",
    "LJ = np.zeros((resolution,resolution))\n",
    "Coulomb_ewald = np.zeros((resolution,resolution))\n",
    "Coulomb_real = np.zeros((resolution,resolution))\n",
    "Coulomb_fourier = np.zeros((resolution,resolution))\n",
    "alpha = np.zeros((resolution,resolution))\n",
    "\n",
    "for i in range(resolution):\n",
    "    for j in range(resolution):       \n",
    "        script_output = !bash run_from_python.sh {X[i,j]} {Y[i,j]} 0\n",
    "        energy[i,j] = float(script_output[0])\n",
    "        LJ[i,j] = float(script_output[1])\n",
    "        Coulomb_ewald[i,j] = float(script_output[2])\n",
    "        Coulomb_real[i,j] = float(script_output[3])\n",
    "        Coulomb_fourier[i,j] = float(script_output[4])\n",
    "        alpha[i,j] = float(script_output[5])"
   ]
  },
  {
   "cell_type": "code",
   "execution_count": 34,
   "metadata": {},
   "outputs": [
    {
     "data": {
      "text/html": [
       "<div>\n",
       "<style scoped>\n",
       "    .dataframe tbody tr th:only-of-type {\n",
       "        vertical-align: middle;\n",
       "    }\n",
       "\n",
       "    .dataframe tbody tr th {\n",
       "        vertical-align: top;\n",
       "    }\n",
       "\n",
       "    .dataframe thead th {\n",
       "        text-align: right;\n",
       "    }\n",
       "</style>\n",
       "<table border=\"1\" class=\"dataframe\">\n",
       "  <thead>\n",
       "    <tr style=\"text-align: right;\">\n",
       "      <th></th>\n",
       "      <th>X</th>\n",
       "      <th>Y</th>\n",
       "      <th>energy</th>\n",
       "      <th>LJ</th>\n",
       "      <th>Coulomb_ewald</th>\n",
       "      <th>Coulomb_real</th>\n",
       "      <th>Coulomb_fourier</th>\n",
       "      <th>alpha</th>\n",
       "    </tr>\n",
       "  </thead>\n",
       "  <tbody>\n",
       "    <tr>\n",
       "      <th>0</th>\n",
       "      <td>0.000000</td>\n",
       "      <td>0.0</td>\n",
       "      <td>-inf</td>\n",
       "      <td>-27.886863</td>\n",
       "      <td>-inf</td>\n",
       "      <td>-inf</td>\n",
       "      <td>-16331.794825</td>\n",
       "      <td>0.341429</td>\n",
       "    </tr>\n",
       "    <tr>\n",
       "      <th>1</th>\n",
       "      <td>0.526316</td>\n",
       "      <td>0.0</td>\n",
       "      <td>-1.450592e+05</td>\n",
       "      <td>-31.049473</td>\n",
       "      <td>-1.450282e+05</td>\n",
       "      <td>-1.285857e+05</td>\n",
       "      <td>-16442.455660</td>\n",
       "      <td>0.341429</td>\n",
       "    </tr>\n",
       "    <tr>\n",
       "      <th>2</th>\n",
       "      <td>1.052632</td>\n",
       "      <td>0.0</td>\n",
       "      <td>-6.626592e+04</td>\n",
       "      <td>-32.120951</td>\n",
       "      <td>-6.623379e+04</td>\n",
       "      <td>-5.040110e+04</td>\n",
       "      <td>-15832.690177</td>\n",
       "      <td>0.341429</td>\n",
       "    </tr>\n",
       "    <tr>\n",
       "      <th>3</th>\n",
       "      <td>1.578947</td>\n",
       "      <td>0.0</td>\n",
       "      <td>1.368377e+05</td>\n",
       "      <td>176899.633793</td>\n",
       "      <td>-4.006194e+04</td>\n",
       "      <td>-2.547977e+04</td>\n",
       "      <td>-14582.171997</td>\n",
       "      <td>0.341429</td>\n",
       "    </tr>\n",
       "    <tr>\n",
       "      <th>4</th>\n",
       "      <td>2.105263</td>\n",
       "      <td>0.0</td>\n",
       "      <td>-2.226225e+04</td>\n",
       "      <td>4569.801796</td>\n",
       "      <td>-2.683205e+04</td>\n",
       "      <td>-1.398339e+04</td>\n",
       "      <td>-12848.654365</td>\n",
       "      <td>0.341429</td>\n",
       "    </tr>\n",
       "    <tr>\n",
       "      <th>...</th>\n",
       "      <td>...</td>\n",
       "      <td>...</td>\n",
       "      <td>...</td>\n",
       "      <td>...</td>\n",
       "      <td>...</td>\n",
       "      <td>...</td>\n",
       "      <td>...</td>\n",
       "      <td>...</td>\n",
       "    </tr>\n",
       "    <tr>\n",
       "      <th>395</th>\n",
       "      <td>12.894737</td>\n",
       "      <td>10.0</td>\n",
       "      <td>-1.808777e+04</td>\n",
       "      <td>4590.728188</td>\n",
       "      <td>-2.267850e+04</td>\n",
       "      <td>-1.248719e+04</td>\n",
       "      <td>-10191.303591</td>\n",
       "      <td>0.341429</td>\n",
       "    </tr>\n",
       "    <tr>\n",
       "      <th>396</th>\n",
       "      <td>13.421053</td>\n",
       "      <td>10.0</td>\n",
       "      <td>1.407076e+05</td>\n",
       "      <td>176929.651090</td>\n",
       "      <td>-3.622204e+04</td>\n",
       "      <td>-2.397743e+04</td>\n",
       "      <td>-12244.609760</td>\n",
       "      <td>0.341429</td>\n",
       "    </tr>\n",
       "    <tr>\n",
       "      <th>397</th>\n",
       "      <td>13.947368</td>\n",
       "      <td>10.0</td>\n",
       "      <td>-6.327583e+04</td>\n",
       "      <td>-17.447218</td>\n",
       "      <td>-6.325839e+04</td>\n",
       "      <td>-4.916600e+04</td>\n",
       "      <td>-14092.383374</td>\n",
       "      <td>0.341429</td>\n",
       "    </tr>\n",
       "    <tr>\n",
       "      <th>398</th>\n",
       "      <td>14.473684</td>\n",
       "      <td>10.0</td>\n",
       "      <td>-1.434240e+05</td>\n",
       "      <td>-22.927421</td>\n",
       "      <td>-1.434010e+05</td>\n",
       "      <td>-1.278873e+05</td>\n",
       "      <td>-15513.781395</td>\n",
       "      <td>0.341429</td>\n",
       "    </tr>\n",
       "    <tr>\n",
       "      <th>399</th>\n",
       "      <td>15.000000</td>\n",
       "      <td>10.0</td>\n",
       "      <td>-9.271626e+09</td>\n",
       "      <td>-27.887005</td>\n",
       "      <td>-9.271626e+09</td>\n",
       "      <td>-9.271610e+09</td>\n",
       "      <td>-16331.804148</td>\n",
       "      <td>0.341429</td>\n",
       "    </tr>\n",
       "  </tbody>\n",
       "</table>\n",
       "<p>400 rows × 8 columns</p>\n",
       "</div>"
      ],
      "text/plain": [
       "             X     Y        energy             LJ  Coulomb_ewald  \\\n",
       "0     0.000000   0.0          -inf     -27.886863           -inf   \n",
       "1     0.526316   0.0 -1.450592e+05     -31.049473  -1.450282e+05   \n",
       "2     1.052632   0.0 -6.626592e+04     -32.120951  -6.623379e+04   \n",
       "3     1.578947   0.0  1.368377e+05  176899.633793  -4.006194e+04   \n",
       "4     2.105263   0.0 -2.226225e+04    4569.801796  -2.683205e+04   \n",
       "..         ...   ...           ...            ...            ...   \n",
       "395  12.894737  10.0 -1.808777e+04    4590.728188  -2.267850e+04   \n",
       "396  13.421053  10.0  1.407076e+05  176929.651090  -3.622204e+04   \n",
       "397  13.947368  10.0 -6.327583e+04     -17.447218  -6.325839e+04   \n",
       "398  14.473684  10.0 -1.434240e+05     -22.927421  -1.434010e+05   \n",
       "399  15.000000  10.0 -9.271626e+09     -27.887005  -9.271626e+09   \n",
       "\n",
       "     Coulomb_real  Coulomb_fourier     alpha  \n",
       "0            -inf    -16331.794825  0.341429  \n",
       "1   -1.285857e+05    -16442.455660  0.341429  \n",
       "2   -5.040110e+04    -15832.690177  0.341429  \n",
       "3   -2.547977e+04    -14582.171997  0.341429  \n",
       "4   -1.398339e+04    -12848.654365  0.341429  \n",
       "..            ...              ...       ...  \n",
       "395 -1.248719e+04    -10191.303591  0.341429  \n",
       "396 -2.397743e+04    -12244.609760  0.341429  \n",
       "397 -4.916600e+04    -14092.383374  0.341429  \n",
       "398 -1.278873e+05    -15513.781395  0.341429  \n",
       "399 -9.271610e+09    -16331.804148  0.341429  \n",
       "\n",
       "[400 rows x 8 columns]"
      ]
     },
     "execution_count": 34,
     "metadata": {},
     "output_type": "execute_result"
    }
   ],
   "source": [
    "df = pd.DataFrame(data = {'X':X.flatten(),'Y':Y.flatten(),'energy':energy.flatten(),'LJ':LJ.flatten(),\\\n",
    "        'Coulomb_ewald':Coulomb_ewald.flatten(),'Coulomb_real':Coulomb_real.flatten(), \\\n",
    "            'Coulomb_fourier':Coulomb_fourier.flatten(), 'alpha':alpha.flatten()})\n",
    "df.to_csv('zz_results/test_3_atoms_with_alpha__again.csv',index=False)\n",
    "df"
   ]
  },
  {
   "cell_type": "code",
   "execution_count": 25,
   "metadata": {},
   "outputs": [],
   "source": [
    "a1_k = [0.25,0.75,0.25]\n",
    "a2_k = [.25,.5,.75]\n",
    "a3_k = [0, 0, 0]#[0]*3\n",
    "lattice = np.array([a1,a2,a3])\n",
    "lattice_k = np.array([a1_k,a2_k,a3_k])\n",
    "a1_xyz = a1_k @ lattice\n",
    "a2_xyz = a2_k @ lattice\n",
    "a3_xyz = a3_k @ lattice"
   ]
  },
  {
   "cell_type": "code",
   "execution_count": 27,
   "metadata": {},
   "outputs": [
    {
     "data": {
      "text/plain": [
       "[<matplotlib.lines.Line2D at 0x128827c40>]"
      ]
     },
     "execution_count": 27,
     "metadata": {},
     "output_type": "execute_result"
    },
    {
     "data": {
      "image/png": "[encoded data removed]",
      "text/plain": [
       "<Figure size 640x480 with 2 Axes>"
      ]
     },
     "metadata": {},
     "output_type": "display_data"
    }
   ],
   "source": [
    "f,ax = plt.subplots()\n",
    "p = ax.contourf(X,Y,alpha,levels=resolution*10)\n",
    "f.colorbar(p)\n",
    "ax.set_aspect('equal', 'box')\n",
    "plt.title('Coulomb_fourier')\n",
    "plt.plot(a1_xyz[0], a1_xyz[1],'ro')\n",
    "plt.plot(a2_xyz[0], a2_xyz[1],'ro')\n",
    "plt.plot(a3_xyz[0], a3_xyz[1],'ro')"
   ]
  },
  {
   "cell_type": "code",
   "execution_count": 79,
   "metadata": {},
   "outputs": [],
   "source": [
    "df_loaded = pd.read_csv('results/test_3_atoms_spaliato.csv')"
   ]
  },
  {
   "cell_type": "code",
   "execution_count": 82,
   "metadata": {},
   "outputs": [],
   "source": [
    "X_loaded = df_loaded['X'].values.reshape(resolution,resolution)\n",
    "Y_loaded = df_loaded['Y'].values.reshape(resolution,resolution)\n",
    "Coulomb_ewald_loaded = df_loaded['Coulomb_ewald'].values.reshape(resolution,resolution)\n",
    "\n",
    "assert np.allclose(X,X_loaded)\n",
    "assert np.allclose(Y,Y_loaded)\n",
    "assert np.allclose(Coulomb_ewald,Coulomb_ewald_loaded)"
   ]
  },
  {
   "cell_type": "code",
   "execution_count": 77,
   "metadata": {},
   "outputs": [
    {
     "data": {
      "text/plain": [
       "Text(0.5, 1.0, 'Coulomb_fourier')"
      ]
     },
     "execution_count": 77,
     "metadata": {},
     "output_type": "execute_result"
    },
    {
     "data": {
      "image/png": "[encoded data removed]",
      "text/plain": [
       "<Figure size 640x480 with 2 Axes>"
      ]
     },
     "metadata": {},
     "output_type": "display_data"
    }
   ],
   "source": [
    "f,ax = plt.subplots()\n",
    "p = ax.contourf(X,Y,Coulomb_fourier,levels=resolution*10)\n",
    "f.colorbar(p)\n",
    "ax.set_aspect('equal', 'box')\n",
    "plt.title('Coulomb_fourier')"
   ]
  },
  {
   "cell_type": "code",
   "execution_count": null,
   "metadata": {},
   "outputs": [],
   "source": [
    "f,ax = plt.subplots()\n",
    "p = ax.contourf(X,Y,Coulomb_fourier,levels=resolution*10)\n",
    "f.colorbar(p)\n",
    "ax.set_aspect('equal', 'box')\n",
    "plt.title('Coulomb_fourier')"
   ]
  },
  {
   "cell_type": "markdown",
   "metadata": {},
   "source": [
    "## 3D:"
   ]
  },
  {
   "cell_type": "code",
   "execution_count": 50,
   "metadata": {},
   "outputs": [],
   "source": [
    "resolution = 2\n",
    "R1,R2,R3 = np.meshgrid(np.linspace(0,1,resolution),np.linspace(0,1,resolution),np.linspace(0,1,resolution))\n",
    "X = a1[0]*R1+a2[0]*R2+a3[0]*R3\n",
    "Y = a1[1]*R1+a2[1]*R2+a3[1]*R3\n",
    "Z = a1[2]*R1+a2[2]*R2+a3[2]*R3"
   ]
  },
  {
   "cell_type": "code",
   "execution_count": 55,
   "metadata": {},
   "outputs": [],
   "source": [
    "energy = np.zeros((resolution,resolution,resolution))\n",
    "LJ = np.zeros((resolution,resolution,resolution))\n",
    "Coulomb_ewald = np.zeros((resolution,resolution,resolution))\n",
    "Coulomb_real = np.zeros((resolution,resolution,resolution))\n",
    "Coulomb_fourier = np.zeros((resolution,resolution,resolution))\n",
    "alpha = np.zeros((resolution,resolution,resolution))\n",
    "\n",
    "for i in range(resolution):\n",
    "    for j in range(resolution):  \n",
    "        for k in range(resolution):\n",
    "            #print(f\"x={X[i,j,k]};  \\ty={Y[i,j,k]};  \\tz={Z[i,j,k]}\")\n",
    "            script_output = !bash run_from_python.sh {X[i,j,k]} {Y[i,j,k]} {Z[i,j,k]}\n",
    "            energy[i,j,k] = float(script_output[0])\n",
    "            LJ[i,j,k] = float(script_output[1])\n",
    "            Coulomb_ewald[i,j,k] = float(script_output[2])\n",
    "            Coulomb_real[i,j,k] = float(script_output[3])\n",
    "            Coulomb_fourier[i,j,k] = float(script_output[4])\n",
    "            alpha[i,j,k] = float(script_output[5])"
   ]
  },
  {
   "cell_type": "code",
   "execution_count": 57,
   "metadata": {},
   "outputs": [
    {
     "data": {
      "text/html": [
       "<div>\n",
       "<style scoped>\n",
       "    .dataframe tbody tr th:only-of-type {\n",
       "        vertical-align: middle;\n",
       "    }\n",
       "\n",
       "    .dataframe tbody tr th {\n",
       "        vertical-align: top;\n",
       "    }\n",
       "\n",
       "    .dataframe thead th {\n",
       "        text-align: right;\n",
       "    }\n",
       "</style>\n",
       "<table border=\"1\" class=\"dataframe\">\n",
       "  <thead>\n",
       "    <tr style=\"text-align: right;\">\n",
       "      <th></th>\n",
       "      <th>X</th>\n",
       "      <th>Y</th>\n",
       "      <th>Z</th>\n",
       "      <th>energy</th>\n",
       "      <th>LJ</th>\n",
       "      <th>Coulomb_ewald</th>\n",
       "      <th>Coulomb_real</th>\n",
       "      <th>Coulomb_fourier</th>\n",
       "      <th>alpha</th>\n",
       "    </tr>\n",
       "  </thead>\n",
       "  <tbody>\n",
       "    <tr>\n",
       "      <th>0</th>\n",
       "      <td>0.0</td>\n",
       "      <td>0.0</td>\n",
       "      <td>0.0</td>\n",
       "      <td>-inf</td>\n",
       "      <td>-27.886863</td>\n",
       "      <td>-inf</td>\n",
       "      <td>-inf</td>\n",
       "      <td>-16331.794825</td>\n",
       "      <td>0.341429</td>\n",
       "    </tr>\n",
       "    <tr>\n",
       "      <th>1</th>\n",
       "      <td>0.0</td>\n",
       "      <td>0.0</td>\n",
       "      <td>10.0</td>\n",
       "      <td>-7.525564e+19</td>\n",
       "      <td>-27.886863</td>\n",
       "      <td>-7.525564e+19</td>\n",
       "      <td>-7.525564e+19</td>\n",
       "      <td>-16331.794825</td>\n",
       "      <td>0.341429</td>\n",
       "    </tr>\n",
       "    <tr>\n",
       "      <th>2</th>\n",
       "      <td>10.0</td>\n",
       "      <td>0.0</td>\n",
       "      <td>0.0</td>\n",
       "      <td>-7.525564e+19</td>\n",
       "      <td>-27.886863</td>\n",
       "      <td>-7.525564e+19</td>\n",
       "      <td>-7.525564e+19</td>\n",
       "      <td>-16331.794825</td>\n",
       "      <td>0.341429</td>\n",
       "    </tr>\n",
       "    <tr>\n",
       "      <th>3</th>\n",
       "      <td>10.0</td>\n",
       "      <td>0.0</td>\n",
       "      <td>10.0</td>\n",
       "      <td>-5.321377e+19</td>\n",
       "      <td>-27.886863</td>\n",
       "      <td>-5.321377e+19</td>\n",
       "      <td>-5.321377e+19</td>\n",
       "      <td>-16331.794825</td>\n",
       "      <td>0.341429</td>\n",
       "    </tr>\n",
       "    <tr>\n",
       "      <th>4</th>\n",
       "      <td>5.0</td>\n",
       "      <td>10.0</td>\n",
       "      <td>0.0</td>\n",
       "      <td>-9.271626e+09</td>\n",
       "      <td>-27.887005</td>\n",
       "      <td>-9.271626e+09</td>\n",
       "      <td>-9.271610e+09</td>\n",
       "      <td>-16331.804148</td>\n",
       "      <td>0.341429</td>\n",
       "    </tr>\n",
       "    <tr>\n",
       "      <th>5</th>\n",
       "      <td>5.0</td>\n",
       "      <td>10.0</td>\n",
       "      <td>10.0</td>\n",
       "      <td>-9.271626e+09</td>\n",
       "      <td>-27.887005</td>\n",
       "      <td>-9.271626e+09</td>\n",
       "      <td>-9.271610e+09</td>\n",
       "      <td>-16331.804148</td>\n",
       "      <td>0.341429</td>\n",
       "    </tr>\n",
       "    <tr>\n",
       "      <th>6</th>\n",
       "      <td>15.0</td>\n",
       "      <td>10.0</td>\n",
       "      <td>0.0</td>\n",
       "      <td>-9.271626e+09</td>\n",
       "      <td>-27.887005</td>\n",
       "      <td>-9.271626e+09</td>\n",
       "      <td>-9.271610e+09</td>\n",
       "      <td>-16331.804148</td>\n",
       "      <td>0.341429</td>\n",
       "    </tr>\n",
       "    <tr>\n",
       "      <th>7</th>\n",
       "      <td>15.0</td>\n",
       "      <td>10.0</td>\n",
       "      <td>10.0</td>\n",
       "      <td>-9.271626e+09</td>\n",
       "      <td>-27.887005</td>\n",
       "      <td>-9.271626e+09</td>\n",
       "      <td>-9.271610e+09</td>\n",
       "      <td>-16331.804148</td>\n",
       "      <td>0.341429</td>\n",
       "    </tr>\n",
       "  </tbody>\n",
       "</table>\n",
       "</div>"
      ],
      "text/plain": [
       "      X     Y     Z        energy         LJ  Coulomb_ewald  Coulomb_real  \\\n",
       "0   0.0   0.0   0.0          -inf -27.886863           -inf          -inf   \n",
       "1   0.0   0.0  10.0 -7.525564e+19 -27.886863  -7.525564e+19 -7.525564e+19   \n",
       "2  10.0   0.0   0.0 -7.525564e+19 -27.886863  -7.525564e+19 -7.525564e+19   \n",
       "3  10.0   0.0  10.0 -5.321377e+19 -27.886863  -5.321377e+19 -5.321377e+19   \n",
       "4   5.0  10.0   0.0 -9.271626e+09 -27.887005  -9.271626e+09 -9.271610e+09   \n",
       "5   5.0  10.0  10.0 -9.271626e+09 -27.887005  -9.271626e+09 -9.271610e+09   \n",
       "6  15.0  10.0   0.0 -9.271626e+09 -27.887005  -9.271626e+09 -9.271610e+09   \n",
       "7  15.0  10.0  10.0 -9.271626e+09 -27.887005  -9.271626e+09 -9.271610e+09   \n",
       "\n",
       "   Coulomb_fourier     alpha  \n",
       "0    -16331.794825  0.341429  \n",
       "1    -16331.794825  0.341429  \n",
       "2    -16331.794825  0.341429  \n",
       "3    -16331.794825  0.341429  \n",
       "4    -16331.804148  0.341429  \n",
       "5    -16331.804148  0.341429  \n",
       "6    -16331.804148  0.341429  \n",
       "7    -16331.804148  0.341429  "
      ]
     },
     "execution_count": 57,
     "metadata": {},
     "output_type": "execute_result"
    }
   ],
   "source": [
    "df = pd.DataFrame(data = {'X':X.flatten(),'Y':Y.flatten(), 'Z':Z.flatten(),'energy':energy.flatten(),'LJ':LJ.flatten(),\\\n",
    "        'Coulomb_ewald':Coulomb_ewald.flatten(),'Coulomb_real':Coulomb_real.flatten(), \\\n",
    "            'Coulomb_fourier':Coulomb_fourier.flatten(), 'alpha':alpha.flatten()})\n",
    "df.to_csv('zz_results/test_3_atoms_with_alpha_3D.csv',index=False)\n",
    "df"
   ]
  },
  {
   "cell_type": "markdown",
   "metadata": {},
   "source": [
    "## old verifcation LJ & coulomb"
   ]
  },
  {
   "cell_type": "code",
   "execution_count": 1,
   "metadata": {},
   "outputs": [],
   "source": [
    "def LJ_12_6(r, sigma, epsilon):\n",
    "    \"\"\"Lennard-Jones 12-6 potential\"\"\"\n",
    "    return 4 * epsilon * ((sigma / r) ** 12 - (sigma / r) ** 6)"
   ]
  },
  {
   "cell_type": "code",
   "execution_count": 4,
   "metadata": {},
   "outputs": [],
   "source": [
    "# calculate the LJ parameters for the mixture with the Lorentz-Berthelot mixing rules\n",
    "\n",
    "# solid-atom: C (carbon) (parameters from UFF as in force_field_mixing_rules.py)\n",
    "sig1 = 3.4309\n",
    "eps1 = 52.8435\n",
    "\n",
    "# adsorbate-molecule/atom 'XX'\n",
    "sig2 = 3.21\n",
    "eps2 = 77.77\n",
    "\n",
    "sigma = (sig1 + sig2) / 2   \n",
    "epsilon = np.sqrt(eps1 * eps2)"
   ]
  },
  {
   "cell_type": "code",
   "execution_count": 7,
   "metadata": {},
   "outputs": [],
   "source": [
    "def plot_lj_potential(d, sigma, epsilon):\n",
    "    r = np.linspace(2.0, 12.0, 500)\n",
    "\n",
    "    plt.figure(figsize=(10, 6))\n",
    "    #for atom, color in zip(results.keys(), colors):\n",
    "    print(f\"sigma: {sigma}, epsilon: {epsilon}\")\n",
    "    plt.plot(r, LJ_12_6(r, sigma, epsilon))\n",
    "    plt.plot(d, LJ_12_6(d, sigma, epsilon), \"ro\", label=f\"r = {d:.2f} Å, LJ = {LJ_12_6(d, sigma, epsilon):.8f} K\")\n",
    "    plt.title(\"Lennard-Jones (6-12) Interaction Potential\", fontsize=16)\n",
    "    plt.xlabel(\"Distance (r) [Å]\", fontsize=14)\n",
    "    plt.ylabel(\"LJ Potential [K]\", fontsize=14)\n",
    "    plt.xlim(2.0, 12.0)\n",
    "    plt.ylim(-100, 100)   \n",
    "    plt.legend()\n",
    "    plt.tight_layout()\n",
    "    plt.grid(True)\n",
    "    plt.show()"
   ]
  },
  {
   "cell_type": "code",
   "execution_count": 8,
   "metadata": {},
   "outputs": [
    {
     "name": "stdout",
     "output_type": "stream",
     "text": [
      "sigma: 3.32045, epsilon: 64.10646609352288\n"
     ]
    },
    {
     "data": {
      "image/png": "[encoded data removed]",
      "text/plain": [
       "<Figure size 1000x600 with 1 Axes>"
      ]
     },
     "metadata": {},
     "output_type": "display_data"
    }
   ],
   "source": [
    "# plot the LJ potential\n",
    "d = 4.56 # distance as in the RASPA2 simulation\n",
    "plot_lj_potential(d, sigma, epsilon)"
   ]
  },
  {
   "cell_type": "code",
   "execution_count": 9,
   "metadata": {},
   "outputs": [
    {
     "name": "stdout",
     "output_type": "stream",
     "text": [
      "lj: -32.52728861 K\n"
     ]
    }
   ],
   "source": [
    "lj = LJ_12_6(d, sigma, epsilon)\n",
    "print(f\"lj: {lj:.8f} K\")"
   ]
  },
  {
   "cell_type": "markdown",
   "metadata": {},
   "source": [
    "So for the two atoms with the above LJ parameter we expect a LJ interaction energy of -32.52728861 K. This is also calculated with RASPA2 as you can see in the output file under Output/System0/ in line 632 (Host/Adsorbate VDW energy). (as the unitcell is very large and the LJ-cutoff is set to 20, there is only this single pair-interaction considered)"
   ]
  },
  {
   "cell_type": "code",
   "execution_count": 10,
   "metadata": {},
   "outputs": [],
   "source": [
    "def coulombic_interaction(r: np.ndarray, charge1: float, charge2:float) -> np.ndarray: \n",
    "    \"\"\" \n",
    "     calculate the Coulombic interaction between a given atoms charge and C atom (charge = 0.7 e) at given distance r\n",
    "     input: r: np.array, distance in Å\n",
    "            charge1: float, charge in e\n",
    "            charge2: float, charge in e\n",
    "        output: \n",
    "        - Coulombic interaction: np.array  [K]\n",
    "    \"\"\"\n",
    "    kb = 1.380648 * 10**-23  # J/K\n",
    "    inv_4_epsi0 = 1 / (4 * np.pi * 8.8541878128 * 10**-12)  # C^2 / J m = C^2 s^2 / kg m^3\n",
    "    charge_e_to_c = 1.602176634 * 10**-19  # C\n",
    "    factor_coulomb = (\n",
    "    inv_4_epsi0 * charge_e_to_c**2 / kb / 10**-10\n",
    "    )  # 10**-10 to convert to Angstrom -> [K * Angstrom]\n",
    "    return factor_coulomb * charge1 * charge2 / r"
   ]
  },
  {
   "cell_type": "code",
   "execution_count": 11,
   "metadata": {},
   "outputs": [],
   "source": [
    "charge1 = 0.42\n",
    "charge2 = 0.37"
   ]
  },
  {
   "cell_type": "code",
   "execution_count": 12,
   "metadata": {},
   "outputs": [
    {
     "data": {
      "text/plain": [
       "5694.628499162692"
      ]
     },
     "execution_count": 12,
     "metadata": {},
     "output_type": "execute_result"
    }
   ],
   "source": [
    "coulombic_interaction(4.56, charge1, charge2)"
   ]
  },
  {
   "cell_type": "markdown",
   "metadata": {},
   "source": [
    "The single pair coulombic interaction is a bit tricky to reproduce as the Ewald Sum also considers the periodic replicas of the unitcell so this value for now just serves as a rough reference."
   ]
  }
 ],
 "metadata": {
  "kernelspec": {
   "display_name": "ase",
   "language": "python",
   "name": "python3"
  },
  "language_info": {
   "codemirror_mode": {
    "name": "ipython",
    "version": 3
   },
   "file_extension": ".py",
   "mimetype": "text/x-python",
   "name": "python",
   "nbconvert_exporter": "python",
   "pygments_lexer": "ipython3",
   "version": "3.10.16"
  }
 },
 "nbformat": 4,
 "nbformat_minor": 2
}
